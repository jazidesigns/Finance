{
 "cells": [
  {
   "cell_type": "markdown",
   "id": "1ec48908",
   "metadata": {
    "papermill": {
     "duration": 0.078299,
     "end_time": "2022-05-06T19:51:20.238931",
     "exception": false,
     "start_time": "2022-05-06T19:51:20.160632",
     "status": "completed"
    },
    "tags": []
   },
   "source": [
    "### Import Libraries"
   ]
  },
  {
   "cell_type": "code",
   "execution_count": 1,
   "id": "39d113f0",
   "metadata": {
    "execution": {
     "iopub.execute_input": "2022-05-06T19:51:20.373098Z",
     "iopub.status.busy": "2022-05-06T19:51:20.372732Z",
     "iopub.status.idle": "2022-05-06T19:51:21.629267Z",
     "shell.execute_reply": "2022-05-06T19:51:21.628171Z"
    },
    "papermill": {
     "duration": 1.326432,
     "end_time": "2022-05-06T19:51:21.632091",
     "exception": false,
     "start_time": "2022-05-06T19:51:20.305659",
     "status": "completed"
    },
    "tags": []
   },
   "outputs": [],
   "source": [
    "import pandas as pd\n",
    "import numpy as np\n",
    "\n",
    "from datetime import datetime\n",
    "\n",
    "import seaborn as sns\n",
    "sns.set_style(\"whitegrid\")\n",
    "import matplotlib.pyplot as plt"
   ]
  },
  {
   "cell_type": "code",
   "execution_count": 2,
   "id": "3c801845",
   "metadata": {
    "execution": {
     "iopub.execute_input": "2022-05-06T19:51:21.768765Z",
     "iopub.status.busy": "2022-05-06T19:51:21.768471Z",
     "iopub.status.idle": "2022-05-06T19:51:37.069044Z",
     "shell.execute_reply": "2022-05-06T19:51:37.068209Z"
    },
    "papermill": {
     "duration": 15.370705,
     "end_time": "2022-05-06T19:51:37.071591",
     "exception": false,
     "start_time": "2022-05-06T19:51:21.700886",
     "status": "completed"
    },
    "tags": []
   },
   "outputs": [
    {
     "name": "stdout",
     "output_type": "stream",
     "text": [
      "Collecting numpy-financial\r\n",
      "  Downloading numpy_financial-1.0.0-py3-none-any.whl (14 kB)\r\n",
      "Requirement already satisfied: numpy>=1.15 in /opt/conda/lib/python3.7/site-packages (from numpy-financial) (1.21.6)\r\n",
      "Installing collected packages: numpy-financial\r\n",
      "Successfully installed numpy-financial-1.0.0\r\n",
      "\u001b[33mWARNING: Running pip as the 'root' user can result in broken permissions and conflicting behaviour with the system package manager. It is recommended to use a virtual environment instead: https://pip.pypa.io/warnings/venv\u001b[0m\u001b[33m\r\n",
      "\u001b[0m"
     ]
    }
   ],
   "source": [
    "!pip install numpy-financial"
   ]
  },
  {
   "cell_type": "code",
   "execution_count": 3,
   "id": "47458ebb",
   "metadata": {
    "execution": {
     "iopub.execute_input": "2022-05-06T19:51:37.208975Z",
     "iopub.status.busy": "2022-05-06T19:51:37.208658Z",
     "iopub.status.idle": "2022-05-06T19:51:37.217883Z",
     "shell.execute_reply": "2022-05-06T19:51:37.216884Z"
    },
    "papermill": {
     "duration": 0.081215,
     "end_time": "2022-05-06T19:51:37.220480",
     "exception": false,
     "start_time": "2022-05-06T19:51:37.139265",
     "status": "completed"
    },
    "tags": []
   },
   "outputs": [],
   "source": [
    "import numpy_financial as npf"
   ]
  },
  {
   "cell_type": "markdown",
   "id": "f5503b9f",
   "metadata": {
    "papermill": {
     "duration": 0.068715,
     "end_time": "2022-05-06T19:51:37.361426",
     "exception": false,
     "start_time": "2022-05-06T19:51:37.292711",
     "status": "completed"
    },
    "tags": []
   },
   "source": [
    "### Import Dataset"
   ]
  },
  {
   "cell_type": "code",
   "execution_count": 4,
   "id": "13570859",
   "metadata": {
    "execution": {
     "iopub.execute_input": "2022-05-06T19:51:37.503110Z",
     "iopub.status.busy": "2022-05-06T19:51:37.502808Z",
     "iopub.status.idle": "2022-05-06T19:51:37.540815Z",
     "shell.execute_reply": "2022-05-06T19:51:37.539784Z"
    },
    "papermill": {
     "duration": 0.112839,
     "end_time": "2022-05-06T19:51:37.543385",
     "exception": false,
     "start_time": "2022-05-06T19:51:37.430546",
     "status": "completed"
    },
    "tags": []
   },
   "outputs": [
    {
     "data": {
      "text/html": [
       "<div>\n",
       "<style scoped>\n",
       "    .dataframe tbody tr th:only-of-type {\n",
       "        vertical-align: middle;\n",
       "    }\n",
       "\n",
       "    .dataframe tbody tr th {\n",
       "        vertical-align: top;\n",
       "    }\n",
       "\n",
       "    .dataframe thead th {\n",
       "        text-align: right;\n",
       "    }\n",
       "</style>\n",
       "<table border=\"1\" class=\"dataframe\">\n",
       "  <thead>\n",
       "    <tr style=\"text-align: right;\">\n",
       "      <th></th>\n",
       "      <th>Name</th>\n",
       "      <th>Sector</th>\n",
       "      <th>Price</th>\n",
       "      <th>EPS</th>\n",
       "    </tr>\n",
       "  </thead>\n",
       "  <tbody>\n",
       "    <tr>\n",
       "      <th>0</th>\n",
       "      <td>Apple Inc</td>\n",
       "      <td>Information Technology</td>\n",
       "      <td>170.12</td>\n",
       "      <td>9.20</td>\n",
       "    </tr>\n",
       "    <tr>\n",
       "      <th>1</th>\n",
       "      <td>Abbvie Inc</td>\n",
       "      <td>Health Care</td>\n",
       "      <td>93.29</td>\n",
       "      <td>5.31</td>\n",
       "    </tr>\n",
       "    <tr>\n",
       "      <th>2</th>\n",
       "      <td>Abbott Laboratories</td>\n",
       "      <td>Health Care</td>\n",
       "      <td>55.28</td>\n",
       "      <td>2.41</td>\n",
       "    </tr>\n",
       "    <tr>\n",
       "      <th>3</th>\n",
       "      <td>Accenture Plc</td>\n",
       "      <td>Information Technology</td>\n",
       "      <td>145.30</td>\n",
       "      <td>5.91</td>\n",
       "    </tr>\n",
       "    <tr>\n",
       "      <th>4</th>\n",
       "      <td>Allergan Plc</td>\n",
       "      <td>Health Care</td>\n",
       "      <td>171.81</td>\n",
       "      <td>15.42</td>\n",
       "    </tr>\n",
       "  </tbody>\n",
       "</table>\n",
       "</div>"
      ],
      "text/plain": [
       "                  Name                  Sector   Price    EPS\n",
       "0            Apple Inc  Information Technology  170.12   9.20\n",
       "1           Abbvie Inc             Health Care   93.29   5.31\n",
       "2  Abbott Laboratories             Health Care   55.28   2.41\n",
       "3        Accenture Plc  Information Technology  145.30   5.91\n",
       "4         Allergan Plc             Health Care  171.81  15.42"
      ]
     },
     "execution_count": 4,
     "metadata": {},
     "output_type": "execute_result"
    }
   ],
   "source": [
    "sp = pd.read_csv(\"../input/sp100/sector.txt\")\n",
    "sp.head()"
   ]
  },
  {
   "cell_type": "markdown",
   "id": "75e1cee8",
   "metadata": {
    "papermill": {
     "duration": 0.071835,
     "end_time": "2022-05-06T19:51:37.683623",
     "exception": false,
     "start_time": "2022-05-06T19:51:37.611788",
     "status": "completed"
    },
    "tags": []
   },
   "source": [
    "**Sectors of companies within S&P500 in 2017**"
   ]
  },
  {
   "cell_type": "code",
   "execution_count": 5,
   "id": "74b15833",
   "metadata": {
    "execution": {
     "iopub.execute_input": "2022-05-06T19:51:37.822270Z",
     "iopub.status.busy": "2022-05-06T19:51:37.822001Z",
     "iopub.status.idle": "2022-05-06T19:51:38.200310Z",
     "shell.execute_reply": "2022-05-06T19:51:38.199316Z"
    },
    "papermill": {
     "duration": 0.450072,
     "end_time": "2022-05-06T19:51:38.203086",
     "exception": false,
     "start_time": "2022-05-06T19:51:37.753014",
     "status": "completed"
    },
    "tags": []
   },
   "outputs": [
    {
     "data": {
      "image/png": "[encoded data removed]",
      "text/plain": [
       "<Figure size 1296x504 with 1 Axes>"
      ]
     },
     "metadata": {},
     "output_type": "display_data"
    }
   ],
   "source": [
    "plt.figure(figsize = (18, 7))\n",
    "sns.countplot(y = sp[\"Sector\"])\n",
    "plt.title(\"Sectors of companies within S&P500 in 2017\", weight = \"bold\", size = 20)\n",
    "plt.xlabel(None)\n",
    "plt.ylabel(None)\n",
    "plt.xticks(size = 15)\n",
    "plt.yticks(size = 15)\n",
    "plt.show()"
   ]
  },
  {
   "cell_type": "markdown",
   "id": "d9e90fa5",
   "metadata": {
    "papermill": {
     "duration": 0.071909,
     "end_time": "2022-05-06T19:51:38.346618",
     "exception": false,
     "start_time": "2022-05-06T19:51:38.274709",
     "status": "completed"
    },
    "tags": []
   },
   "source": [
    "**Price to Earning Ratio by Company**"
   ]
  },
  {
   "cell_type": "code",
   "execution_count": 6,
   "id": "e8f3b65f",
   "metadata": {
    "execution": {
     "iopub.execute_input": "2022-05-06T19:51:38.490392Z",
     "iopub.status.busy": "2022-05-06T19:51:38.490078Z",
     "iopub.status.idle": "2022-05-06T19:51:38.504377Z",
     "shell.execute_reply": "2022-05-06T19:51:38.503750Z"
    },
    "papermill": {
     "duration": 0.088146,
     "end_time": "2022-05-06T19:51:38.506304",
     "exception": false,
     "start_time": "2022-05-06T19:51:38.418158",
     "status": "completed"
    },
    "tags": []
   },
   "outputs": [
    {
     "data": {
      "text/html": [
       "<div>\n",
       "<style scoped>\n",
       "    .dataframe tbody tr th:only-of-type {\n",
       "        vertical-align: middle;\n",
       "    }\n",
       "\n",
       "    .dataframe tbody tr th {\n",
       "        vertical-align: top;\n",
       "    }\n",
       "\n",
       "    .dataframe thead th {\n",
       "        text-align: right;\n",
       "    }\n",
       "</style>\n",
       "<table border=\"1\" class=\"dataframe\">\n",
       "  <thead>\n",
       "    <tr style=\"text-align: right;\">\n",
       "      <th></th>\n",
       "      <th>Name</th>\n",
       "      <th>Sector</th>\n",
       "      <th>Price</th>\n",
       "      <th>EPS</th>\n",
       "      <th>P/E Ratio</th>\n",
       "    </tr>\n",
       "  </thead>\n",
       "  <tbody>\n",
       "    <tr>\n",
       "      <th>0</th>\n",
       "      <td>Apple Inc</td>\n",
       "      <td>Information Technology</td>\n",
       "      <td>170.12</td>\n",
       "      <td>9.20</td>\n",
       "      <td>18.491304</td>\n",
       "    </tr>\n",
       "    <tr>\n",
       "      <th>1</th>\n",
       "      <td>Abbvie Inc</td>\n",
       "      <td>Health Care</td>\n",
       "      <td>93.29</td>\n",
       "      <td>5.31</td>\n",
       "      <td>17.568738</td>\n",
       "    </tr>\n",
       "    <tr>\n",
       "      <th>2</th>\n",
       "      <td>Abbott Laboratories</td>\n",
       "      <td>Health Care</td>\n",
       "      <td>55.28</td>\n",
       "      <td>2.41</td>\n",
       "      <td>22.937759</td>\n",
       "    </tr>\n",
       "    <tr>\n",
       "      <th>3</th>\n",
       "      <td>Accenture Plc</td>\n",
       "      <td>Information Technology</td>\n",
       "      <td>145.30</td>\n",
       "      <td>5.91</td>\n",
       "      <td>24.585448</td>\n",
       "    </tr>\n",
       "    <tr>\n",
       "      <th>4</th>\n",
       "      <td>Allergan Plc</td>\n",
       "      <td>Health Care</td>\n",
       "      <td>171.81</td>\n",
       "      <td>15.42</td>\n",
       "      <td>11.142023</td>\n",
       "    </tr>\n",
       "  </tbody>\n",
       "</table>\n",
       "</div>"
      ],
      "text/plain": [
       "                  Name                  Sector   Price    EPS  P/E Ratio\n",
       "0            Apple Inc  Information Technology  170.12   9.20  18.491304\n",
       "1           Abbvie Inc             Health Care   93.29   5.31  17.568738\n",
       "2  Abbott Laboratories             Health Care   55.28   2.41  22.937759\n",
       "3        Accenture Plc  Information Technology  145.30   5.91  24.585448\n",
       "4         Allergan Plc             Health Care  171.81  15.42  11.142023"
      ]
     },
     "execution_count": 6,
     "metadata": {},
     "output_type": "execute_result"
    }
   ],
   "source": [
    "sp[\"P/E Ratio\"] = sp[\"Price\"] / sp[\"EPS\"]\n",
    "sp.head()"
   ]
  },
  {
   "cell_type": "markdown",
   "id": "63db2c30",
   "metadata": {
    "papermill": {
     "duration": 0.068822,
     "end_time": "2022-05-06T19:51:38.644841",
     "exception": false,
     "start_time": "2022-05-06T19:51:38.576019",
     "status": "completed"
    },
    "tags": []
   },
   "source": [
    "**Histogram of P/E Ratio**"
   ]
  },
  {
   "cell_type": "code",
   "execution_count": 7,
   "id": "65efb097",
   "metadata": {
    "execution": {
     "iopub.execute_input": "2022-05-06T19:51:38.791797Z",
     "iopub.status.busy": "2022-05-06T19:51:38.790837Z",
     "iopub.status.idle": "2022-05-06T19:51:40.349047Z",
     "shell.execute_reply": "2022-05-06T19:51:40.347897Z"
    },
    "papermill": {
     "duration": 1.636631,
     "end_time": "2022-05-06T19:51:40.352182",
     "exception": false,
     "start_time": "2022-05-06T19:51:38.715551",
     "status": "completed"
    },
    "tags": []
   },
   "outputs": [
    {
     "data": {
      "image/png": "[encoded data removed]",
      "text/plain": [
       "<Figure size 1296x504 with 1 Axes>"
      ]
     },
     "metadata": {},
     "output_type": "display_data"
    }
   ],
   "source": [
    "plt.figure(figsize = (18, 7))\n",
    "sns.histplot(sp[\"P/E Ratio\"], color = \"red\")\n",
    "plt.title(\"Histogram of P/E Ratio\", size = 20, weight = \"bold\")\n",
    "plt.xlabel(\"P/E Ratio\", weight = \"bold\", size = 20)\n",
    "plt.ylabel(\"Count\", weight = \"bold\",  size = 20)\n",
    "plt.xticks(size = 15)\n",
    "plt.yticks(size = 15)\n",
    "plt.show()"
   ]
  },
  {
   "cell_type": "markdown",
   "id": "d000b622",
   "metadata": {
    "papermill": {
     "duration": 0.071581,
     "end_time": "2022-05-06T19:51:40.495271",
     "exception": false,
     "start_time": "2022-05-06T19:51:40.423690",
     "status": "completed"
    },
    "tags": []
   },
   "source": [
    "**Remove Outliers**"
   ]
  },
  {
   "cell_type": "code",
   "execution_count": 8,
   "id": "4448e79e",
   "metadata": {
    "execution": {
     "iopub.execute_input": "2022-05-06T19:51:40.640167Z",
     "iopub.status.busy": "2022-05-06T19:51:40.639864Z",
     "iopub.status.idle": "2022-05-06T19:51:40.646677Z",
     "shell.execute_reply": "2022-05-06T19:51:40.645586Z"
    },
    "papermill": {
     "duration": 0.082109,
     "end_time": "2022-05-06T19:51:40.649233",
     "exception": false,
     "start_time": "2022-05-06T19:51:40.567124",
     "status": "completed"
    },
    "tags": []
   },
   "outputs": [],
   "source": [
    "mask = sp['P/E Ratio'] > 50\n",
    "sp = sp[~mask]"
   ]
  },
  {
   "cell_type": "markdown",
   "id": "28cac1c0",
   "metadata": {
    "papermill": {
     "duration": 0.072498,
     "end_time": "2022-05-06T19:51:40.794325",
     "exception": false,
     "start_time": "2022-05-06T19:51:40.721827",
     "status": "completed"
    },
    "tags": []
   },
   "source": [
    "**Histogram of P/E Ratio without Outliers**"
   ]
  },
  {
   "cell_type": "code",
   "execution_count": 9,
   "id": "867323ad",
   "metadata": {
    "execution": {
     "iopub.execute_input": "2022-05-06T19:51:40.941813Z",
     "iopub.status.busy": "2022-05-06T19:51:40.941518Z",
     "iopub.status.idle": "2022-05-06T19:51:41.255189Z",
     "shell.execute_reply": "2022-05-06T19:51:41.253905Z"
    },
    "papermill": {
     "duration": 0.391705,
     "end_time": "2022-05-06T19:51:41.257673",
     "exception": false,
     "start_time": "2022-05-06T19:51:40.865968",
     "status": "completed"
    },
    "tags": []
   },
   "outputs": [
    {
     "data": {
      "image/png": "[encoded data removed]",
      "text/plain": [
       "<Figure size 1296x504 with 1 Axes>"
      ]
     },
     "metadata": {},
     "output_type": "display_data"
    }
   ],
   "source": [
    "plt.figure(figsize = (18, 7))\n",
    "sns.histplot(sp[\"P/E Ratio\"], color = \"green\")\n",
    "plt.title(\"Histogram of P/E Ratio without Outliers\", size = 20, weight = \"bold\")\n",
    "plt.xlabel(\"P/E Ratio\", weight = \"bold\", size = 20)\n",
    "plt.ylabel(\"Count\", weight = \"bold\",  size = 20)\n",
    "plt.xticks(size = 15)\n",
    "plt.yticks(size = 15)\n",
    "plt.show()"
   ]
  },
  {
   "cell_type": "markdown",
   "id": "f3769ba8",
   "metadata": {
    "papermill": {
     "duration": 0.073166,
     "end_time": "2022-05-06T19:51:41.403114",
     "exception": false,
     "start_time": "2022-05-06T19:51:41.329948",
     "status": "completed"
    },
    "tags": []
   },
   "source": [
    "**Top 10 Price to Earning Ratio by Company**"
   ]
  },
  {
   "cell_type": "code",
   "execution_count": 10,
   "id": "562b6a69",
   "metadata": {
    "execution": {
     "iopub.execute_input": "2022-05-06T19:51:41.552882Z",
     "iopub.status.busy": "2022-05-06T19:51:41.552559Z",
     "iopub.status.idle": "2022-05-06T19:51:41.870945Z",
     "shell.execute_reply": "2022-05-06T19:51:41.869910Z"
    },
    "papermill": {
     "duration": 0.397047,
     "end_time": "2022-05-06T19:51:41.874060",
     "exception": false,
     "start_time": "2022-05-06T19:51:41.477013",
     "status": "completed"
    },
    "tags": []
   },
   "outputs": [
    {
     "data": {
      "image/png": "[encoded data removed]",
      "text/plain": [
       "<Figure size 1296x504 with 1 Axes>"
      ]
     },
     "metadata": {},
     "output_type": "display_data"
    }
   ],
   "source": [
    "top_com_pe = sp.sort_values(by = \"P/E Ratio\", ascending = False)\n",
    "top_com_pe_10 = top_com_pe.head(10)\n",
    "\n",
    "plt.figure(figsize = (18, 7))\n",
    "sns.barplot(y = \"Name\", x = \"P/E Ratio\", data = top_com_pe_10)\n",
    "plt.title(\"Top 10 Price to Earning Ratio by Company\", weight = \"bold\", size = 20)\n",
    "plt.xlabel(None)\n",
    "plt.ylabel(None)\n",
    "plt.xticks(size = 15)\n",
    "plt.yticks(size = 15)\n",
    "plt.show()"
   ]
  },
  {
   "cell_type": "markdown",
   "id": "177e873f",
   "metadata": {
    "papermill": {
     "duration": 0.074786,
     "end_time": "2022-05-06T19:51:42.029468",
     "exception": false,
     "start_time": "2022-05-06T19:51:41.954682",
     "status": "completed"
    },
    "tags": []
   },
   "source": [
    "**Average and Standard Deviation of Price to Earning Ratio by Sector**"
   ]
  },
  {
   "cell_type": "code",
   "execution_count": 11,
   "id": "ec693876",
   "metadata": {
    "execution": {
     "iopub.execute_input": "2022-05-06T19:51:42.188052Z",
     "iopub.status.busy": "2022-05-06T19:51:42.187515Z",
     "iopub.status.idle": "2022-05-06T19:51:42.209590Z",
     "shell.execute_reply": "2022-05-06T19:51:42.208326Z"
    },
    "papermill": {
     "duration": 0.102952,
     "end_time": "2022-05-06T19:51:42.211839",
     "exception": false,
     "start_time": "2022-05-06T19:51:42.108887",
     "status": "completed"
    },
    "tags": []
   },
   "outputs": [
    {
     "data": {
      "text/html": [
       "<div>\n",
       "<style scoped>\n",
       "    .dataframe tbody tr th:only-of-type {\n",
       "        vertical-align: middle;\n",
       "    }\n",
       "\n",
       "    .dataframe tbody tr th {\n",
       "        vertical-align: top;\n",
       "    }\n",
       "\n",
       "    .dataframe thead th {\n",
       "        text-align: right;\n",
       "    }\n",
       "</style>\n",
       "<table border=\"1\" class=\"dataframe\">\n",
       "  <thead>\n",
       "    <tr style=\"text-align: right;\">\n",
       "      <th></th>\n",
       "      <th>mean</th>\n",
       "      <th>std</th>\n",
       "    </tr>\n",
       "    <tr>\n",
       "      <th>Sector</th>\n",
       "      <th></th>\n",
       "      <th></th>\n",
       "    </tr>\n",
       "  </thead>\n",
       "  <tbody>\n",
       "    <tr>\n",
       "      <th>Consumer Discretionary</th>\n",
       "      <td>18.180602</td>\n",
       "      <td>6.640417</td>\n",
       "    </tr>\n",
       "    <tr>\n",
       "      <th>Consumer Staples</th>\n",
       "      <td>21.581069</td>\n",
       "      <td>4.608206</td>\n",
       "    </tr>\n",
       "    <tr>\n",
       "      <th>Energy</th>\n",
       "      <td>32.160029</td>\n",
       "      <td>11.089594</td>\n",
       "    </tr>\n",
       "    <tr>\n",
       "      <th>Financials</th>\n",
       "      <td>16.124468</td>\n",
       "      <td>5.050263</td>\n",
       "    </tr>\n",
       "    <tr>\n",
       "      <th>Health Care</th>\n",
       "      <td>16.932835</td>\n",
       "      <td>4.629821</td>\n",
       "    </tr>\n",
       "    <tr>\n",
       "      <th>Industrials</th>\n",
       "      <td>21.613948</td>\n",
       "      <td>3.758624</td>\n",
       "    </tr>\n",
       "    <tr>\n",
       "      <th>Information Technology</th>\n",
       "      <td>24.308376</td>\n",
       "      <td>8.367696</td>\n",
       "    </tr>\n",
       "    <tr>\n",
       "      <th>Materials</th>\n",
       "      <td>20.402104</td>\n",
       "      <td>1.372367</td>\n",
       "    </tr>\n",
       "    <tr>\n",
       "      <th>Real Estate</th>\n",
       "      <td>26.322314</td>\n",
       "      <td>NaN</td>\n",
       "    </tr>\n",
       "    <tr>\n",
       "      <th>Telecommunications</th>\n",
       "      <td>12.016064</td>\n",
       "      <td>0.297838</td>\n",
       "    </tr>\n",
       "    <tr>\n",
       "      <th>Utilities</th>\n",
       "      <td>19.626517</td>\n",
       "      <td>2.814558</td>\n",
       "    </tr>\n",
       "  </tbody>\n",
       "</table>\n",
       "</div>"
      ],
      "text/plain": [
       "                             mean        std\n",
       "Sector                                      \n",
       "Consumer Discretionary  18.180602   6.640417\n",
       "Consumer Staples        21.581069   4.608206\n",
       "Energy                  32.160029  11.089594\n",
       "Financials              16.124468   5.050263\n",
       "Health Care             16.932835   4.629821\n",
       "Industrials             21.613948   3.758624\n",
       "Information Technology  24.308376   8.367696\n",
       "Materials               20.402104   1.372367\n",
       "Real Estate             26.322314        NaN\n",
       "Telecommunications      12.016064   0.297838\n",
       "Utilities               19.626517   2.814558"
      ]
     },
     "execution_count": 11,
     "metadata": {},
     "output_type": "execute_result"
    }
   ],
   "source": [
    "sp.groupby(\"Sector\")[\"P/E Ratio\"].agg([\"mean\", \"std\"])"
   ]
  },
  {
   "cell_type": "markdown",
   "id": "29f6f877",
   "metadata": {
    "papermill": {
     "duration": 0.075809,
     "end_time": "2022-05-06T19:51:42.362627",
     "exception": false,
     "start_time": "2022-05-06T19:51:42.286818",
     "status": "completed"
    },
    "tags": []
   },
   "source": [
    "### Import Stocks Data"
   ]
  },
  {
   "cell_type": "code",
   "execution_count": 12,
   "id": "f13b1646",
   "metadata": {
    "execution": {
     "iopub.execute_input": "2022-05-06T19:51:42.522264Z",
     "iopub.status.busy": "2022-05-06T19:51:42.521958Z",
     "iopub.status.idle": "2022-05-06T19:51:42.553661Z",
     "shell.execute_reply": "2022-05-06T19:51:42.552540Z"
    },
    "papermill": {
     "duration": 0.111192,
     "end_time": "2022-05-06T19:51:42.556015",
     "exception": false,
     "start_time": "2022-05-06T19:51:42.444823",
     "status": "completed"
    },
    "tags": []
   },
   "outputs": [
    {
     "data": {
      "text/html": [
       "<div>\n",
       "<style scoped>\n",
       "    .dataframe tbody tr th:only-of-type {\n",
       "        vertical-align: middle;\n",
       "    }\n",
       "\n",
       "    .dataframe tbody tr th {\n",
       "        vertical-align: top;\n",
       "    }\n",
       "\n",
       "    .dataframe thead th {\n",
       "        text-align: right;\n",
       "    }\n",
       "</style>\n",
       "<table border=\"1\" class=\"dataframe\">\n",
       "  <thead>\n",
       "    <tr style=\"text-align: right;\">\n",
       "      <th></th>\n",
       "      <th>date</th>\n",
       "      <th>close</th>\n",
       "      <th>volume</th>\n",
       "      <th>open</th>\n",
       "      <th>high</th>\n",
       "      <th>low</th>\n",
       "    </tr>\n",
       "  </thead>\n",
       "  <tbody>\n",
       "    <tr>\n",
       "      <th>0</th>\n",
       "      <td>13:33</td>\n",
       "      <td>1,155.14</td>\n",
       "      <td>1,145,529</td>\n",
       "      <td>1,172</td>\n",
       "      <td>1,176.88</td>\n",
       "      <td>1,152</td>\n",
       "    </tr>\n",
       "    <tr>\n",
       "      <th>1</th>\n",
       "      <td>2019/08/02</td>\n",
       "      <td>1196.3200</td>\n",
       "      <td>1745450.0000</td>\n",
       "      <td>1203.0000</td>\n",
       "      <td>1209.5000</td>\n",
       "      <td>1190.0000</td>\n",
       "    </tr>\n",
       "    <tr>\n",
       "      <th>2</th>\n",
       "      <td>2019/08/01</td>\n",
       "      <td>1211.7800</td>\n",
       "      <td>1771271.0000</td>\n",
       "      <td>1217.6300</td>\n",
       "      <td>1236.2980</td>\n",
       "      <td>1207.0000</td>\n",
       "    </tr>\n",
       "    <tr>\n",
       "      <th>3</th>\n",
       "      <td>2019/07/31</td>\n",
       "      <td>1218.2000</td>\n",
       "      <td>1997999.0000</td>\n",
       "      <td>1224.8700</td>\n",
       "      <td>1234.9100</td>\n",
       "      <td>1208.1800</td>\n",
       "    </tr>\n",
       "    <tr>\n",
       "      <th>4</th>\n",
       "      <td>2019/07/30</td>\n",
       "      <td>1228.0000</td>\n",
       "      <td>1430775.0000</td>\n",
       "      <td>1227.0000</td>\n",
       "      <td>1236.9100</td>\n",
       "      <td>1225.3200</td>\n",
       "    </tr>\n",
       "  </tbody>\n",
       "</table>\n",
       "</div>"
      ],
      "text/plain": [
       "         date      close        volume       open       high        low\n",
       "0       13:33   1,155.14     1,145,529      1,172   1,176.88      1,152\n",
       "1  2019/08/02  1196.3200  1745450.0000  1203.0000  1209.5000  1190.0000\n",
       "2  2019/08/01  1211.7800  1771271.0000  1217.6300  1236.2980  1207.0000\n",
       "3  2019/07/31  1218.2000  1997999.0000  1224.8700  1234.9100  1208.1800\n",
       "4  2019/07/30  1228.0000  1430775.0000  1227.0000  1236.9100  1225.3200"
      ]
     },
     "execution_count": 12,
     "metadata": {},
     "output_type": "execute_result"
    }
   ],
   "source": [
    "stocks = pd.read_csv(\"../input/stocks/HistoricalQuotes.csv\")\n",
    "stocks.head()"
   ]
  },
  {
   "cell_type": "markdown",
   "id": "0638f61b",
   "metadata": {
    "papermill": {
     "duration": 0.07786,
     "end_time": "2022-05-06T19:51:42.713867",
     "exception": false,
     "start_time": "2022-05-06T19:51:42.636007",
     "status": "completed"
    },
    "tags": []
   },
   "source": [
    "**Fundamental Financial Concepts**"
   ]
  },
  {
   "cell_type": "code",
   "execution_count": 13,
   "id": "5f3d3ec5",
   "metadata": {
    "execution": {
     "iopub.execute_input": "2022-05-06T19:51:42.877196Z",
     "iopub.status.busy": "2022-05-06T19:51:42.876482Z",
     "iopub.status.idle": "2022-05-06T19:51:42.883708Z",
     "shell.execute_reply": "2022-05-06T19:51:42.882449Z"
    },
    "papermill": {
     "duration": 0.092426,
     "end_time": "2022-05-06T19:51:42.886959",
     "exception": false,
     "start_time": "2022-05-06T19:51:42.794533",
     "status": "completed"
    },
    "tags": []
   },
   "outputs": [
    {
     "name": "stdout",
     "output_type": "stream",
     "text": [
      "Annual Return = 10.0%\n"
     ]
    }
   ],
   "source": [
    "year1_investment = 10000\n",
    "\n",
    "year2_investment_worth = 11000\n",
    "\n",
    "gain = ((year2_investment_worth - year1_investment) / year1_investment) * 100\n",
    "\n",
    "print(\"Annual Return =\", str(gain) + \"%\")"
   ]
  },
  {
   "cell_type": "markdown",
   "id": "8f0a290e",
   "metadata": {
    "papermill": {
     "duration": 0.076879,
     "end_time": "2022-05-06T19:51:43.041255",
     "exception": false,
     "start_time": "2022-05-06T19:51:42.964376",
     "status": "completed"
    },
    "tags": []
   },
   "source": [
    "**Return on Investment**"
   ]
  },
  {
   "cell_type": "code",
   "execution_count": 14,
   "id": "91d88bda",
   "metadata": {
    "execution": {
     "iopub.execute_input": "2022-05-06T19:51:43.194172Z",
     "iopub.status.busy": "2022-05-06T19:51:43.193753Z",
     "iopub.status.idle": "2022-05-06T19:51:43.199952Z",
     "shell.execute_reply": "2022-05-06T19:51:43.198667Z"
    },
    "papermill": {
     "duration": 0.085836,
     "end_time": "2022-05-06T19:51:43.202259",
     "exception": false,
     "start_time": "2022-05-06T19:51:43.116423",
     "status": "completed"
    },
    "tags": []
   },
   "outputs": [
    {
     "name": "stdout",
     "output_type": "stream",
     "text": [
      "Final Investment Value = 11000.0\n"
     ]
    }
   ],
   "source": [
    "initial_value_investment = 10000\n",
    "\n",
    "return_rate = 0.10\n",
    "\n",
    "final_value_investment = initial_value_investment * (1 + return_rate)\n",
    "\n",
    "print(\"Final Investment Value =\", final_value_investment)"
   ]
  },
  {
   "cell_type": "markdown",
   "id": "9adbb75b",
   "metadata": {
    "papermill": {
     "duration": 0.082478,
     "end_time": "2022-05-06T19:51:43.360686",
     "exception": false,
     "start_time": "2022-05-06T19:51:43.278208",
     "status": "completed"
    },
    "tags": []
   },
   "source": [
    "**Commulative Growth**"
   ]
  },
  {
   "cell_type": "code",
   "execution_count": 15,
   "id": "14104afd",
   "metadata": {
    "execution": {
     "iopub.execute_input": "2022-05-06T19:51:43.533880Z",
     "iopub.status.busy": "2022-05-06T19:51:43.533576Z",
     "iopub.status.idle": "2022-05-06T19:51:43.539520Z",
     "shell.execute_reply": "2022-05-06T19:51:43.538394Z"
    },
    "papermill": {
     "duration": 0.096596,
     "end_time": "2022-05-06T19:51:43.542664",
     "exception": false,
     "start_time": "2022-05-06T19:51:43.446068",
     "status": "completed"
    },
    "tags": []
   },
   "outputs": [
    {
     "name": "stdout",
     "output_type": "stream",
     "text": [
      "Commulative Growth = 57435.0\n"
     ]
    }
   ],
   "source": [
    "initial_investment = 10000\n",
    "\n",
    "return_rate = 0.06\n",
    "\n",
    "period = 30\n",
    "\n",
    "future_investment_value = initial_investment * (1 + return_rate) ** period\n",
    "\n",
    "print(\"Commulative Growth =\", np.round(future_investment_value)) "
   ]
  },
  {
   "cell_type": "markdown",
   "id": "87c9784a",
   "metadata": {
    "papermill": {
     "duration": 0.08178,
     "end_time": "2022-05-06T19:51:43.710350",
     "exception": false,
     "start_time": "2022-05-06T19:51:43.628570",
     "status": "completed"
    },
    "tags": []
   },
   "source": [
    "**Discount Factors and Depreciation**"
   ]
  },
  {
   "cell_type": "code",
   "execution_count": 16,
   "id": "b64a6b54",
   "metadata": {
    "execution": {
     "iopub.execute_input": "2022-05-06T19:51:43.877006Z",
     "iopub.status.busy": "2022-05-06T19:51:43.876637Z",
     "iopub.status.idle": "2022-05-06T19:51:43.883781Z",
     "shell.execute_reply": "2022-05-06T19:51:43.882566Z"
    },
    "papermill": {
     "duration": 0.091393,
     "end_time": "2022-05-06T19:51:43.886677",
     "exception": false,
     "start_time": "2022-05-06T19:51:43.795284",
     "status": "completed"
    },
    "tags": []
   },
   "outputs": [
    {
     "name": "stdout",
     "output_type": "stream",
     "text": [
      "Future Value after Depreciation = 7374.0\n"
     ]
    }
   ],
   "source": [
    "initial_investment = 10000\n",
    "\n",
    "growth_rate = -0.03\n",
    "\n",
    "period = 10\n",
    "\n",
    "future_value = initial_investment * ( 1 + growth_rate) ** period\n",
    "\n",
    "print(\"Future Value after Depreciation =\", np.round(future_value))"
   ]
  },
  {
   "cell_type": "markdown",
   "id": "f43307ff",
   "metadata": {
    "papermill": {
     "duration": 0.087271,
     "end_time": "2022-05-06T19:51:44.067045",
     "exception": false,
     "start_time": "2022-05-06T19:51:43.979774",
     "status": "completed"
    },
    "tags": []
   },
   "source": [
    "**Discount Factor**"
   ]
  },
  {
   "cell_type": "code",
   "execution_count": 17,
   "id": "cca8f7c5",
   "metadata": {
    "execution": {
     "iopub.execute_input": "2022-05-06T19:51:44.246134Z",
     "iopub.status.busy": "2022-05-06T19:51:44.245832Z",
     "iopub.status.idle": "2022-05-06T19:51:44.252256Z",
     "shell.execute_reply": "2022-05-06T19:51:44.251493Z"
    },
    "papermill": {
     "duration": 0.099535,
     "end_time": "2022-05-06T19:51:44.254736",
     "exception": false,
     "start_time": "2022-05-06T19:51:44.155201",
     "status": "completed"
    },
    "tags": []
   },
   "outputs": [
    {
     "name": "stdout",
     "output_type": "stream",
     "text": [
      "Discount Factor =  1.36\n"
     ]
    }
   ],
   "source": [
    "discount_factor = 1 / ((1 + growth_rate) ** period)\n",
    "print(\"Discount Factor = \", np.round(discount_factor, 2))"
   ]
  },
  {
   "cell_type": "markdown",
   "id": "831acf2d",
   "metadata": {
    "papermill": {
     "duration": 0.082301,
     "end_time": "2022-05-06T19:51:44.422891",
     "exception": false,
     "start_time": "2022-05-06T19:51:44.340590",
     "status": "completed"
    },
    "tags": []
   },
   "source": [
    "**Initial Investment Value**"
   ]
  },
  {
   "cell_type": "code",
   "execution_count": 18,
   "id": "503cb110",
   "metadata": {
    "execution": {
     "iopub.execute_input": "2022-05-06T19:51:44.587457Z",
     "iopub.status.busy": "2022-05-06T19:51:44.587090Z",
     "iopub.status.idle": "2022-05-06T19:51:44.592517Z",
     "shell.execute_reply": "2022-05-06T19:51:44.591832Z"
    },
    "papermill": {
     "duration": 0.090086,
     "end_time": "2022-05-06T19:51:44.595815",
     "exception": false,
     "start_time": "2022-05-06T19:51:44.505729",
     "status": "completed"
    },
    "tags": []
   },
   "outputs": [
    {
     "name": "stdout",
     "output_type": "stream",
     "text": [
      "Initial Investment Value = 10000.0\n"
     ]
    }
   ],
   "source": [
    "initial_investment_value = future_value * discount_factor\n",
    "print(\"Initial Investment Value =\", np.round(initial_investment_value))"
   ]
  },
  {
   "cell_type": "markdown",
   "id": "0963f8f4",
   "metadata": {
    "papermill": {
     "duration": 0.087227,
     "end_time": "2022-05-06T19:51:44.767214",
     "exception": false,
     "start_time": "2022-05-06T19:51:44.679987",
     "status": "completed"
    },
    "tags": []
   },
   "source": [
    "**Compute the present value of an investment which will yield $10,000 15 years from now at an inflation rate of 3% per year**"
   ]
  },
  {
   "cell_type": "code",
   "execution_count": 19,
   "id": "eb72798a",
   "metadata": {
    "execution": {
     "iopub.execute_input": "2022-05-06T19:51:44.936047Z",
     "iopub.status.busy": "2022-05-06T19:51:44.935699Z",
     "iopub.status.idle": "2022-05-06T19:51:44.942517Z",
     "shell.execute_reply": "2022-05-06T19:51:44.941428Z"
    },
    "papermill": {
     "duration": 0.095447,
     "end_time": "2022-05-06T19:51:44.944961",
     "exception": false,
     "start_time": "2022-05-06T19:51:44.849514",
     "status": "completed"
    },
    "tags": []
   },
   "outputs": [
    {
     "name": "stdout",
     "output_type": "stream",
     "text": [
      "Investment is worth 6418.62 in today's dollars\n"
     ]
    }
   ],
   "source": [
    "pvi = npf.pv(rate = 0.03, nper = 15, pmt = 0, fv = 10000).round(2)\n",
    "print(\"Investment is worth\", -pvi, \"in today's dollars\")"
   ]
  },
  {
   "cell_type": "markdown",
   "id": "25d2544b",
   "metadata": {
    "papermill": {
     "duration": 0.084259,
     "end_time": "2022-05-06T19:51:45.114473",
     "exception": false,
     "start_time": "2022-05-06T19:51:45.030214",
     "status": "completed"
    },
    "tags": []
   },
   "source": [
    "**Future Value**"
   ]
  },
  {
   "cell_type": "code",
   "execution_count": 20,
   "id": "06a9663b",
   "metadata": {
    "execution": {
     "iopub.execute_input": "2022-05-06T19:51:45.281668Z",
     "iopub.status.busy": "2022-05-06T19:51:45.281054Z",
     "iopub.status.idle": "2022-05-06T19:51:45.288236Z",
     "shell.execute_reply": "2022-05-06T19:51:45.286705Z"
    },
    "papermill": {
     "duration": 0.093632,
     "end_time": "2022-05-06T19:51:45.290731",
     "exception": false,
     "start_time": "2022-05-06T19:51:45.197099",
     "status": "completed"
    },
    "tags": []
   },
   "outputs": [
    {
     "name": "stdout",
     "output_type": "stream",
     "text": [
      "Investment of 10000 dollars will yield a total of 21589.25 dollars in 3 years\n"
     ]
    }
   ],
   "source": [
    "initial_investment = 10000\n",
    "return_rate = 0.08\n",
    "period = 10\n",
    "\n",
    "\n",
    "future_value = initial_investment * (1 + return_rate) ** 10\n",
    "print(\"Investment of 10000 dollars will yield a total of\", np.round(future_value, 2), \"dollars in 3 years\")"
   ]
  },
  {
   "cell_type": "markdown",
   "id": "8ee51046",
   "metadata": {
    "papermill": {
     "duration": 0.086761,
     "end_time": "2022-05-06T19:51:45.461510",
     "exception": false,
     "start_time": "2022-05-06T19:51:45.374749",
     "status": "completed"
    },
    "tags": []
   },
   "source": [
    "**Present Value**"
   ]
  },
  {
   "cell_type": "code",
   "execution_count": 21,
   "id": "41dcc3d7",
   "metadata": {
    "execution": {
     "iopub.execute_input": "2022-05-06T19:51:45.626052Z",
     "iopub.status.busy": "2022-05-06T19:51:45.625709Z",
     "iopub.status.idle": "2022-05-06T19:51:45.632369Z",
     "shell.execute_reply": "2022-05-06T19:51:45.631096Z"
    },
    "papermill": {
     "duration": 0.092935,
     "end_time": "2022-05-06T19:51:45.635295",
     "exception": false,
     "start_time": "2022-05-06T19:51:45.542360",
     "status": "completed"
    },
    "tags": []
   },
   "outputs": [
    {
     "name": "stdout",
     "output_type": "stream",
     "text": [
      "After adjusting for inflation, investment is worth 16064.43 dollars in todays dollars\n"
     ]
    }
   ],
   "source": [
    "present_value = npf.pv(rate = 0.03, nper = 10, pmt = 0, fv = -future_value)\n",
    "print(\"After adjusting for inflation, investment is worth\", np.round(present_value, 2), \"dollars in todays dollars\")"
   ]
  },
  {
   "cell_type": "markdown",
   "id": "203fd5f7",
   "metadata": {
    "papermill": {
     "duration": 0.083348,
     "end_time": "2022-05-06T19:51:45.800510",
     "exception": false,
     "start_time": "2022-05-06T19:51:45.717162",
     "status": "completed"
    },
    "tags": []
   },
   "source": [
    "**Discounting cash flows**"
   ]
  },
  {
   "cell_type": "code",
   "execution_count": 22,
   "id": "7d743606",
   "metadata": {
    "execution": {
     "iopub.execute_input": "2022-05-06T19:51:45.972379Z",
     "iopub.status.busy": "2022-05-06T19:51:45.971479Z",
     "iopub.status.idle": "2022-05-06T19:51:45.980791Z",
     "shell.execute_reply": "2022-05-06T19:51:45.979210Z"
    },
    "papermill": {
     "duration": 0.096886,
     "end_time": "2022-05-06T19:51:45.984694",
     "exception": false,
     "start_time": "2022-05-06T19:51:45.887808",
     "status": "completed"
    },
    "tags": []
   },
   "outputs": [
    {
     "name": "stdout",
     "output_type": "stream",
     "text": [
      "Investment_1 net present value is 471.71 dollars \n",
      "\n",
      "Investment_2 net present value is 454.6 dollars\n"
     ]
    }
   ],
   "source": [
    "cash_flows = np.array([100, 100, 100, 100, 100])\n",
    "\n",
    "investment_1 = npf.npv(rate = 0.03, values = cash_flows)\n",
    "print(\"Investment_1 net present value is\", np.round(investment_1, 2), \"dollars\", \"\\n\")\n",
    "\n",
    "investment_2 = npf.npv(rate = 0.05, values = cash_flows)\n",
    "print(\"Investment_2 net present value is\", np.round(investment_2, 2), \"dollars\")"
   ]
  },
  {
   "cell_type": "markdown",
   "id": "bc936cb2",
   "metadata": {
    "papermill": {
     "duration": 0.084807,
     "end_time": "2022-05-06T19:51:46.153811",
     "exception": false,
     "start_time": "2022-05-06T19:51:46.069004",
     "status": "completed"
    },
    "tags": []
   },
   "source": [
    "**Initial project costs**"
   ]
  },
  {
   "cell_type": "code",
   "execution_count": 23,
   "id": "dbb09bde",
   "metadata": {
    "execution": {
     "iopub.execute_input": "2022-05-06T19:51:46.326330Z",
     "iopub.status.busy": "2022-05-06T19:51:46.325903Z",
     "iopub.status.idle": "2022-05-06T19:51:46.333900Z",
     "shell.execute_reply": "2022-05-06T19:51:46.333153Z"
    },
    "papermill": {
     "duration": 0.099573,
     "end_time": "2022-05-06T19:51:46.336614",
     "exception": false,
     "start_time": "2022-05-06T19:51:46.237041",
     "status": "completed"
    },
    "tags": []
   },
   "outputs": [
    {
     "name": "stdout",
     "output_type": "stream",
     "text": [
      "Net present value of inevestment_1 is worth $665.54 in today's dollars \n",
      "\n",
      "Net present value of investment_2 is worth $346.7 in today's dollars\n"
     ]
    }
   ],
   "source": [
    "cash_flows_1 = np.array([-250, 100, 200, 300, 400])\n",
    "\n",
    "cash_flows_2 = np.array([-250, 300, -250, 300, 300])\n",
    "\n",
    "investment_1 = npf.npv(rate = 0.03, values = cash_flows_1)\n",
    "\n",
    "investment_2 = npf.npv(rate = 0.03, values = cash_flows_2)\n",
    "\n",
    "print(\"Net present value of inevestment_1 is worth $\" + str(np.round(investment_1, 2)), \"in today's dollars\", \"\\n\")\n",
    "\n",
    "print(\"Net present value of investment_2 is worth $\" + str(np.round(investment_2, 2)), \"in today's dollars\")"
   ]
  },
  {
   "cell_type": "markdown",
   "id": "5b92e7dd",
   "metadata": {
    "papermill": {
     "duration": 0.083677,
     "end_time": "2022-05-06T19:51:46.501310",
     "exception": false,
     "start_time": "2022-05-06T19:51:46.417633",
     "status": "completed"
    },
    "tags": []
   },
   "source": [
    "**Diminishing cash flows**"
   ]
  },
  {
   "cell_type": "code",
   "execution_count": 24,
   "id": "bba19785",
   "metadata": {
    "execution": {
     "iopub.execute_input": "2022-05-06T19:51:46.664481Z",
     "iopub.status.busy": "2022-05-06T19:51:46.664009Z",
     "iopub.status.idle": "2022-05-06T19:51:46.670567Z",
     "shell.execute_reply": "2022-05-06T19:51:46.669343Z"
    },
    "papermill": {
     "duration": 0.091856,
     "end_time": "2022-05-06T19:51:46.672704",
     "exception": false,
     "start_time": "2022-05-06T19:51:46.580848",
     "status": "completed"
    },
    "tags": []
   },
   "outputs": [
    {
     "name": "stdout",
     "output_type": "stream",
     "text": [
      "Investment is worth $41.0 in today's dollars\n"
     ]
    }
   ],
   "source": [
    "inflation_rate = 0.03\n",
    "future_value = 100\n",
    "period = 30\n",
    "\n",
    "investment = npf.pv(rate = inflation_rate,\n",
    "                    nper = period,\n",
    "                    pmt = 0,\n",
    "                    fv = -future_value)\n",
    "\n",
    "print(\"Investment is worth $\" + str(np.round(investment)), \"in today's dollars\")"
   ]
  },
  {
   "cell_type": "markdown",
   "id": "4c63f4d1",
   "metadata": {
    "papermill": {
     "duration": 0.082019,
     "end_time": "2022-05-06T19:51:46.840834",
     "exception": false,
     "start_time": "2022-05-06T19:51:46.758815",
     "status": "completed"
    },
    "tags": []
   },
   "source": [
    "**Project Proposals and Cash Flows Projections**"
   ]
  },
  {
   "cell_type": "code",
   "execution_count": 25,
   "id": "23bdd3e4",
   "metadata": {
    "execution": {
     "iopub.execute_input": "2022-05-06T19:51:47.013996Z",
     "iopub.status.busy": "2022-05-06T19:51:47.013569Z",
     "iopub.status.idle": "2022-05-06T19:51:47.019258Z",
     "shell.execute_reply": "2022-05-06T19:51:47.018488Z"
    },
    "papermill": {
     "duration": 0.096798,
     "end_time": "2022-05-06T19:51:47.021648",
     "exception": false,
     "start_time": "2022-05-06T19:51:46.924850",
     "status": "completed"
    },
    "tags": []
   },
   "outputs": [],
   "source": [
    "# Create a numpy array of cash flows for Project 1\n",
    "cf_project_1 = np.array([-1000, 200, 250, 300, 350, 400, 450, 500, 550, 600])\n",
    "\n",
    "# Create a numpy array of cash flows for Project 2\n",
    "cf_project_2 = np.array([-1000, 150, 225, 300, 375, 425, 500, 575, 600, 625])\n",
    "\n",
    "# Scale the original objects by 1000x\n",
    "cf_project1 = cf_project_1 * 1000\n",
    "\n",
    "cf_project2 = cf_project_2 * 1000"
   ]
  },
  {
   "cell_type": "code",
   "execution_count": 26,
   "id": "e4fda771",
   "metadata": {
    "execution": {
     "iopub.execute_input": "2022-05-06T19:51:47.195393Z",
     "iopub.status.busy": "2022-05-06T19:51:47.194680Z",
     "iopub.status.idle": "2022-05-06T19:51:47.213698Z",
     "shell.execute_reply": "2022-05-06T19:51:47.212885Z"
    },
    "papermill": {
     "duration": 0.111539,
     "end_time": "2022-05-06T19:51:47.215964",
     "exception": false,
     "start_time": "2022-05-06T19:51:47.104425",
     "status": "completed"
    },
    "tags": []
   },
   "outputs": [
    {
     "name": "stdout",
     "output_type": "stream",
     "text": [
      "Project 1 IRR: 28.92% \n",
      "\n",
      "Project 2 IRR: 28.78%\n"
     ]
    }
   ],
   "source": [
    "# Calculate the internal rate of return for Project 1\n",
    "irr_project1 = npf.irr(cf_project1)\n",
    "print(\"Project 1 IRR: \" + str(round(100*irr_project1, 2)) + \"%\", \"\\n\")\n",
    "\n",
    "# Calculate the internal rate of return for Project 2\n",
    "irr_project2 = npf.irr(cf_project2)\n",
    "print(\"Project 2 IRR: \" + str(round(100*irr_project2, 2)) + \"%\")"
   ]
  },
  {
   "cell_type": "markdown",
   "id": "43a215c6",
   "metadata": {
    "papermill": {
     "duration": 0.082929,
     "end_time": "2022-05-06T19:51:47.387327",
     "exception": false,
     "start_time": "2022-05-06T19:51:47.304398",
     "status": "completed"
    },
    "tags": []
   },
   "source": [
    "**Debt and equity financing**"
   ]
  },
  {
   "cell_type": "code",
   "execution_count": 27,
   "id": "dca07e56",
   "metadata": {
    "execution": {
     "iopub.execute_input": "2022-05-06T19:51:47.556399Z",
     "iopub.status.busy": "2022-05-06T19:51:47.555731Z",
     "iopub.status.idle": "2022-05-06T19:51:47.563105Z",
     "shell.execute_reply": "2022-05-06T19:51:47.562159Z"
    },
    "papermill": {
     "duration": 0.09385,
     "end_time": "2022-05-06T19:51:47.566510",
     "exception": false,
     "start_time": "2022-05-06T19:51:47.472660",
     "status": "completed"
    },
    "tags": []
   },
   "outputs": [
    {
     "name": "stdout",
     "output_type": "stream",
     "text": [
      "Debt Financing: 50.0%\n",
      "Equity Financing: 50.0%\n"
     ]
    }
   ],
   "source": [
    "# Set the market value of debt\n",
    "mval_debt = 1000000\n",
    "\n",
    "# Set the market value of equity\n",
    "mval_equity = 1000000\n",
    "\n",
    "# Compute the total market value of your company's financing\n",
    "mval_total = mval_debt + mval_equity\n",
    "\n",
    "# Compute the proportion of your company's financing via debt\n",
    "percent_debt = mval_debt / mval_total\n",
    "print(\"Debt Financing: \" + str(round(100*percent_debt, 2)) + \"%\")\n",
    "\n",
    "# Compute the proportion of your company's financing via equity\n",
    "percent_equity = mval_equity / mval_total\n",
    "print(\"Equity Financing: \" + str(round(100*percent_equity, 2)) + \"%\")"
   ]
  },
  {
   "cell_type": "markdown",
   "id": "ced62893",
   "metadata": {
    "papermill": {
     "duration": 0.081751,
     "end_time": "2022-05-06T19:51:47.732093",
     "exception": false,
     "start_time": "2022-05-06T19:51:47.650342",
     "status": "completed"
    },
    "tags": []
   },
   "source": [
    "**Calculating WACC**"
   ]
  },
  {
   "cell_type": "code",
   "execution_count": 28,
   "id": "f0470c85",
   "metadata": {
    "execution": {
     "iopub.execute_input": "2022-05-06T19:51:47.897591Z",
     "iopub.status.busy": "2022-05-06T19:51:47.897034Z",
     "iopub.status.idle": "2022-05-06T19:51:47.904844Z",
     "shell.execute_reply": "2022-05-06T19:51:47.903688Z"
    },
    "papermill": {
     "duration": 0.092459,
     "end_time": "2022-05-06T19:51:47.907043",
     "exception": false,
     "start_time": "2022-05-06T19:51:47.814584",
     "status": "completed"
    },
    "tags": []
   },
   "outputs": [
    {
     "name": "stdout",
     "output_type": "stream",
     "text": [
      "WACC: 12.9%\n"
     ]
    }
   ],
   "source": [
    "# The proportion of debt vs equity financing is predefined\n",
    "percent_debt = 0.50\n",
    "percent_equity = 0.50\n",
    "\n",
    "# Set the cost of equity\n",
    "cost_equity = 0.18\n",
    "\n",
    "# Set the cost of debt\n",
    "cost_debt = 0.12\n",
    "\n",
    "# Set the corporate tax rate\n",
    "tax_rate = 0.35\n",
    "\n",
    "# Calculate the WACC\n",
    "wacc = (percent_equity*cost_equity) + (percent_debt*cost_debt) * (1 - tax_rate)\n",
    "print(\"WACC: \" + str(round(100*wacc, 2)) + \"%\")"
   ]
  },
  {
   "cell_type": "markdown",
   "id": "fcdfb584",
   "metadata": {
    "papermill": {
     "duration": 0.087,
     "end_time": "2022-05-06T19:51:48.076891",
     "exception": false,
     "start_time": "2022-05-06T19:51:47.989891",
     "status": "completed"
    },
    "tags": []
   },
   "source": [
    "**Comparing project NPV with IRR**"
   ]
  },
  {
   "cell_type": "code",
   "execution_count": 29,
   "id": "a5a10e84",
   "metadata": {
    "execution": {
     "iopub.execute_input": "2022-05-06T19:51:48.243876Z",
     "iopub.status.busy": "2022-05-06T19:51:48.243404Z",
     "iopub.status.idle": "2022-05-06T19:51:48.249419Z",
     "shell.execute_reply": "2022-05-06T19:51:48.248735Z"
    },
    "papermill": {
     "duration": 0.093496,
     "end_time": "2022-05-06T19:51:48.252414",
     "exception": false,
     "start_time": "2022-05-06T19:51:48.158918",
     "status": "completed"
    },
    "tags": []
   },
   "outputs": [
    {
     "name": "stdout",
     "output_type": "stream",
     "text": [
      "Project 1 NPV: 856073.18\n",
      "Project 2 NPV: 904741.35\n"
     ]
    }
   ],
   "source": [
    "# Set your weighted average cost of capital equal to 12.9%\n",
    "wacc = 0.129\n",
    "\n",
    "# Calculate the net present value for Project 1\n",
    "npv_project1 = npf.npv(wacc, cf_project1)\n",
    "print(\"Project 1 NPV: \" + str(round(npv_project1, 2)))\n",
    "\n",
    "# Calculate the net present value for Project 2\n",
    "npv_project2 = npf.npv(wacc, cf_project2)\n",
    "print(\"Project 2 NPV: \" + str(round(npv_project2, 2)))"
   ]
  },
  {
   "cell_type": "markdown",
   "id": "c9a44b1c",
   "metadata": {
    "papermill": {
     "duration": 0.087206,
     "end_time": "2022-05-06T19:51:48.427217",
     "exception": false,
     "start_time": "2022-05-06T19:51:48.340011",
     "status": "completed"
    },
    "tags": []
   },
   "source": [
    "**Two project with different lifespans**"
   ]
  },
  {
   "cell_type": "code",
   "execution_count": 30,
   "id": "1a8a325b",
   "metadata": {
    "execution": {
     "iopub.execute_input": "2022-05-06T19:51:48.593497Z",
     "iopub.status.busy": "2022-05-06T19:51:48.592694Z",
     "iopub.status.idle": "2022-05-06T19:51:48.599219Z",
     "shell.execute_reply": "2022-05-06T19:51:48.597967Z"
    },
    "papermill": {
     "duration": 0.092347,
     "end_time": "2022-05-06T19:51:48.601764",
     "exception": false,
     "start_time": "2022-05-06T19:51:48.509417",
     "status": "completed"
    },
    "tags": []
   },
   "outputs": [],
   "source": [
    "# Create a numpy array of cash flows for Project 1\n",
    "cf_project_1 = np.array([-700, 100, 150, 200, 250, 300, 350, 400])\n",
    "\n",
    "# Create a numpy array of cash flows for Project 2\n",
    "cf_project_2 = np.array([-400, 50, 100, 150, 200, 250, 300])\n",
    "\n",
    "# Scale the original objects by 1000x\n",
    "cf_project1 = cf_project_1 * 1000\n",
    "cf_project2 = cf_project_2 * 1000"
   ]
  },
  {
   "cell_type": "markdown",
   "id": "20959871",
   "metadata": {
    "papermill": {
     "duration": 0.083818,
     "end_time": "2022-05-06T19:51:48.767480",
     "exception": false,
     "start_time": "2022-05-06T19:51:48.683662",
     "status": "completed"
    },
    "tags": []
   },
   "source": [
    "**Internal Rate of Return**"
   ]
  },
  {
   "cell_type": "code",
   "execution_count": 31,
   "id": "ce165a40",
   "metadata": {
    "execution": {
     "iopub.execute_input": "2022-05-06T19:51:48.937272Z",
     "iopub.status.busy": "2022-05-06T19:51:48.936683Z",
     "iopub.status.idle": "2022-05-06T19:51:48.944782Z",
     "shell.execute_reply": "2022-05-06T19:51:48.943644Z"
    },
    "papermill": {
     "duration": 0.095797,
     "end_time": "2022-05-06T19:51:48.947319",
     "exception": false,
     "start_time": "2022-05-06T19:51:48.851522",
     "status": "completed"
    },
    "tags": []
   },
   "outputs": [
    {
     "name": "stdout",
     "output_type": "stream",
     "text": [
      "Project 1 IRR: 22.94%\n",
      "Project 2 IRR: 26.89%\n"
     ]
    }
   ],
   "source": [
    "# Calculate the IRR for Project 1\n",
    "irr_project1 = npf.irr(cf_project1)\n",
    "print(\"Project 1 IRR: \" + str(round(100*irr_project1, 2)) + \"%\")\n",
    "\n",
    "# Calculate the IRR for Project 2\n",
    "irr_project2 = npf.irr(cf_project2)\n",
    "print(\"Project 2 IRR: \" + str(round(100*irr_project2, 2)) + \"%\")"
   ]
  },
  {
   "cell_type": "markdown",
   "id": "9e9bbf99",
   "metadata": {
    "papermill": {
     "duration": 0.082282,
     "end_time": "2022-05-06T19:51:49.112061",
     "exception": false,
     "start_time": "2022-05-06T19:51:49.029779",
     "status": "completed"
    },
    "tags": []
   },
   "source": [
    "**Net Present Value**"
   ]
  },
  {
   "cell_type": "code",
   "execution_count": 32,
   "id": "ee47b95e",
   "metadata": {
    "execution": {
     "iopub.execute_input": "2022-05-06T19:51:49.283889Z",
     "iopub.status.busy": "2022-05-06T19:51:49.283598Z",
     "iopub.status.idle": "2022-05-06T19:51:49.290378Z",
     "shell.execute_reply": "2022-05-06T19:51:49.289152Z"
    },
    "papermill": {
     "duration": 0.096816,
     "end_time": "2022-05-06T19:51:49.292795",
     "exception": false,
     "start_time": "2022-05-06T19:51:49.195979",
     "status": "completed"
    },
    "tags": []
   },
   "outputs": [
    {
     "name": "stdout",
     "output_type": "stream",
     "text": [
      "Project 1 NPV: 302744.98\n",
      "Project 2 NPV: 231228.39\n"
     ]
    }
   ],
   "source": [
    "# Set the wacc equal to 12.9%\n",
    "wacc = 0.129\n",
    "\n",
    "# Calculate the NPV for Project 1\n",
    "npv_project1 = npf.npv(wacc, cf_project1)\n",
    "print(\"Project 1 NPV: \" + str(round(npv_project1, 2)))\n",
    "\n",
    "# Calculate the NPV for Project 2\n",
    "npv_project2 = npf.npv(wacc, cf_project2)\n",
    "print(\"Project 2 NPV: \" + str(round(npv_project2, 2)))"
   ]
  },
  {
   "cell_type": "code",
   "execution_count": 33,
   "id": "493f0c85",
   "metadata": {
    "execution": {
     "iopub.execute_input": "2022-05-06T19:51:49.469423Z",
     "iopub.status.busy": "2022-05-06T19:51:49.468748Z",
     "iopub.status.idle": "2022-05-06T19:51:49.476228Z",
     "shell.execute_reply": "2022-05-06T19:51:49.475424Z"
    },
    "papermill": {
     "duration": 0.100822,
     "end_time": "2022-05-06T19:51:49.479193",
     "exception": false,
     "start_time": "2022-05-06T19:51:49.378371",
     "status": "completed"
    },
    "tags": []
   },
   "outputs": [
    {
     "name": "stdout",
     "output_type": "stream",
     "text": [
      "Project 1 EAA: 62872.2\n",
      "Project 2 EAA: 52120.61\n"
     ]
    }
   ],
   "source": [
    "# Calculate the EAA for Project 1\n",
    "eaa_project1 = npf.pmt(rate=wacc, nper=8, pv=-npv_project1, fv=0)\n",
    "print(\"Project 1 EAA: \" + str(round(eaa_project1, 2)))\n",
    "\n",
    "# Calculate the EAA for Project 2\n",
    "eaa_project2 = npf.pmt(rate=wacc, nper=7, pv=-npv_project2, fv=0)\n",
    "print(\"Project 2 EAA: \" + str(round(eaa_project2, 2)))"
   ]
  },
  {
   "cell_type": "markdown",
   "id": "281dd5a4",
   "metadata": {
    "papermill": {
     "duration": 0.08284,
     "end_time": "2022-05-06T19:51:49.645648",
     "exception": false,
     "start_time": "2022-05-06T19:51:49.562808",
     "status": "completed"
    },
    "tags": []
   },
   "source": [
    "### Salary and Taxes"
   ]
  },
  {
   "cell_type": "code",
   "execution_count": 34,
   "id": "dd864da8",
   "metadata": {
    "execution": {
     "iopub.execute_input": "2022-05-06T19:51:49.824642Z",
     "iopub.status.busy": "2022-05-06T19:51:49.824008Z",
     "iopub.status.idle": "2022-05-06T19:51:49.831047Z",
     "shell.execute_reply": "2022-05-06T19:51:49.830026Z"
    },
    "papermill": {
     "duration": 0.104977,
     "end_time": "2022-05-06T19:51:49.834297",
     "exception": false,
     "start_time": "2022-05-06T19:51:49.729320",
     "status": "completed"
    },
    "tags": []
   },
   "outputs": [
    {
     "name": "stdout",
     "output_type": "stream",
     "text": [
      "Salary after taxes = $59500.0 \n",
      "\n",
      "Monthly Salary after taxes $4958.0\n"
     ]
    }
   ],
   "source": [
    "salary = 85000\n",
    "\n",
    "taxes = 0.3\n",
    "\n",
    "salary_after_taxes = salary * (1 - taxes)\n",
    "\n",
    "monthly_takehome_salary = salary_after_taxes / 12\n",
    "\n",
    "print(\"Salary after taxes = $\" + str(np.round(salary_after_taxes, 2)), \"\\n\")\n",
    "\n",
    "print(\"Monthly Salary after taxes $\" + str(np.round(monthly_takehome_salary)))"
   ]
  },
  {
   "cell_type": "markdown",
   "id": "f2885db2",
   "metadata": {
    "papermill": {
     "duration": 0.087645,
     "end_time": "2022-05-06T19:51:50.007310",
     "exception": false,
     "start_time": "2022-05-06T19:51:49.919665",
     "status": "completed"
    },
    "tags": []
   },
   "source": [
    "**Monthly expenses and savings**"
   ]
  },
  {
   "cell_type": "code",
   "execution_count": 35,
   "id": "22a19226",
   "metadata": {
    "execution": {
     "iopub.execute_input": "2022-05-06T19:51:50.182281Z",
     "iopub.status.busy": "2022-05-06T19:51:50.181971Z",
     "iopub.status.idle": "2022-05-06T19:51:50.189304Z",
     "shell.execute_reply": "2022-05-06T19:51:50.188615Z"
    },
    "papermill": {
     "duration": 0.095213,
     "end_time": "2022-05-06T19:51:50.191482",
     "exception": false,
     "start_time": "2022-05-06T19:51:50.096269",
     "status": "completed"
    },
    "tags": []
   },
   "outputs": [
    {
     "name": "stdout",
     "output_type": "stream",
     "text": [
      "Monthly expenses: $2550\n",
      "Monthly savings: $2408.33\n"
     ]
    }
   ],
   "source": [
    "# Enter your monthly rent\n",
    "monthly_rent = 1200\n",
    "\n",
    "# Enter your daily food budget\n",
    "daily_food_budget = 30 \n",
    "\n",
    "# Calculate your monthly food budget assuming 30 days per month\n",
    "monthly_food_budget = 30 * 30\n",
    "\n",
    "# Set your monthly entertainment budget\n",
    "monthly_entertainment_budget = 200\n",
    "\n",
    "# Allocate funds for unforeseen expenses, just in case\n",
    "monthly_unforeseen_expenses = 250\n",
    "\n",
    "# Next, calculate your total monthly expenses\n",
    "monthly_expenses = monthly_rent + monthly_food_budget + monthly_entertainment_budget + monthly_unforeseen_expenses\n",
    "print(\"Monthly expenses: $\" + str(round(monthly_expenses, 2)))\n",
    "\n",
    "# Finally, calculate your monthly take-home savings\n",
    "monthly_savings = (salary_after_taxes / 12) - monthly_expenses\n",
    "print(\"Monthly savings: $\" + str(round(monthly_savings, 2)))"
   ]
  },
  {
   "cell_type": "markdown",
   "id": "63701ba2",
   "metadata": {
    "papermill": {
     "duration": 0.089461,
     "end_time": "2022-05-06T19:51:50.368157",
     "exception": false,
     "start_time": "2022-05-06T19:51:50.278696",
     "status": "completed"
    },
    "tags": []
   },
   "source": [
    "**Forecast salary growth and cost of living**"
   ]
  },
  {
   "cell_type": "code",
   "execution_count": 36,
   "id": "705baeef",
   "metadata": {
    "execution": {
     "iopub.execute_input": "2022-05-06T19:51:50.541668Z",
     "iopub.status.busy": "2022-05-06T19:51:50.541098Z",
     "iopub.status.idle": "2022-05-06T19:51:50.844085Z",
     "shell.execute_reply": "2022-05-06T19:51:50.842545Z"
    },
    "papermill": {
     "duration": 0.394025,
     "end_time": "2022-05-06T19:51:50.850716",
     "exception": false,
     "start_time": "2022-05-06T19:51:50.456691",
     "status": "completed"
    },
    "tags": []
   },
   "outputs": [
    {
     "data": {
      "image/png": "[encoded data removed]",
      "text/plain": [
       "<Figure size 1296x504 with 1 Axes>"
      ]
     },
     "metadata": {},
     "output_type": "display_data"
    }
   ],
   "source": [
    "forecast_months = 12*15\n",
    "\n",
    "annual_salary_growth = 0.05\n",
    "\n",
    "monthly_salary_growth = (1 + annual_salary_growth) ** (1/12) - 1\n",
    "\n",
    "commulative_salary_growth_forecast = np.cumprod(np.repeat(1 + monthly_salary_growth, forecast_months))\n",
    "\n",
    "salary_forecast = monthly_takehome_salary * commulative_salary_growth_forecast\n",
    "\n",
    "plt.figure(figsize = (18, 7))\n",
    "plt.plot(salary_forecast, color = \"blue\", linewidth = 3)\n",
    "plt.title(\"Salary Forecast\", size = 20, weight = \"bold\")\n",
    "plt.xlabel(\"Months\", size = 20, weight = \"bold\")\n",
    "plt.ylabel(\"Salary\", size = 20, weight = \"bold\")\n",
    "plt.xticks(size = 15)\n",
    "plt.yticks(size = 15)\n",
    "plt.show()"
   ]
  },
  {
   "cell_type": "markdown",
   "id": "e9dacdc3",
   "metadata": {
    "papermill": {
     "duration": 0.087056,
     "end_time": "2022-05-06T19:51:51.051198",
     "exception": false,
     "start_time": "2022-05-06T19:51:50.964142",
     "status": "completed"
    },
    "tags": []
   },
   "source": [
    "**Forecast growing expenses due to inflation**"
   ]
  },
  {
   "cell_type": "code",
   "execution_count": 37,
   "id": "fdf7f60c",
   "metadata": {
    "execution": {
     "iopub.execute_input": "2022-05-06T19:51:51.221134Z",
     "iopub.status.busy": "2022-05-06T19:51:51.220086Z",
     "iopub.status.idle": "2022-05-06T19:51:51.506374Z",
     "shell.execute_reply": "2022-05-06T19:51:51.505401Z"
    },
    "papermill": {
     "duration": 0.373278,
     "end_time": "2022-05-06T19:51:51.508991",
     "exception": false,
     "start_time": "2022-05-06T19:51:51.135713",
     "status": "completed"
    },
    "tags": []
   },
   "outputs": [
    {
     "data": {
      "image/png": "[encoded data removed]",
      "text/plain": [
       "<Figure size 1296x504 with 1 Axes>"
      ]
     },
     "metadata": {},
     "output_type": "display_data"
    }
   ],
   "source": [
    "annual_inflation = 0.025\n",
    "\n",
    "monthly_inflation = 0.025 / 12\n",
    "\n",
    "commulative_inflation_forecast = np.cumprod(np.repeat(1 + monthly_inflation, forecast_months))\n",
    "\n",
    "expenses_forecast = monthly_expenses * commulative_inflation_forecast\n",
    "\n",
    "plt.figure(figsize = (18, 7))\n",
    "plt.plot(expenses_forecast, color = \"red\", linewidth = 3)\n",
    "plt.title(\"Expenses Forecast\", size = 20, weight = \"bold\")\n",
    "plt.xlabel(\"Months\", size = 20, weight = \"bold\")\n",
    "plt.ylabel(\"Expenses\", size = 20, weight = \"bold\")\n",
    "plt.xticks(size = 15)\n",
    "plt.yticks(size = 15)\n",
    "plt.show()"
   ]
  },
  {
   "cell_type": "markdown",
   "id": "a5f46a56",
   "metadata": {
    "papermill": {
     "duration": 0.089531,
     "end_time": "2022-05-06T19:51:51.687301",
     "exception": false,
     "start_time": "2022-05-06T19:51:51.597770",
     "status": "completed"
    },
    "tags": []
   },
   "source": [
    "**Salary and Expenses Forecasting**"
   ]
  },
  {
   "cell_type": "code",
   "execution_count": 38,
   "id": "39fe152a",
   "metadata": {
    "execution": {
     "iopub.execute_input": "2022-05-06T19:51:51.866251Z",
     "iopub.status.busy": "2022-05-06T19:51:51.865665Z",
     "iopub.status.idle": "2022-05-06T19:51:52.184364Z",
     "shell.execute_reply": "2022-05-06T19:51:52.183473Z"
    },
    "papermill": {
     "duration": 0.408287,
     "end_time": "2022-05-06T19:51:52.187143",
     "exception": false,
     "start_time": "2022-05-06T19:51:51.778856",
     "status": "completed"
    },
    "tags": []
   },
   "outputs": [
    {
     "data": {
      "image/png": "[encoded data removed]",
      "text/plain": [
       "<Figure size 1296x504 with 1 Axes>"
      ]
     },
     "metadata": {},
     "output_type": "display_data"
    }
   ],
   "source": [
    "plt.figure(figsize = (18, 7))\n",
    "plt.plot(salary_forecast, color = \"blue\", linewidth = 3, label = \"Salary\")\n",
    "plt.plot(expenses_forecast, color = \"red\", linewidth = 3, label = \"Expenses\")\n",
    "plt.title(\"Salary and Expenses Forecast\", size = 20, weight = \"bold\")\n",
    "plt.xlabel(\"Months\", size = 20, weight = \"bold\")\n",
    "plt.ylabel(\"Amouunt\", size = 20, weight = \"bold\")\n",
    "plt.xticks(size = 15)\n",
    "plt.yticks(size = 15)\n",
    "plt.legend(fontsize = 15)\n",
    "plt.show()"
   ]
  },
  {
   "cell_type": "markdown",
   "id": "463c7d02",
   "metadata": {
    "papermill": {
     "duration": 0.094187,
     "end_time": "2022-05-06T19:51:52.373357",
     "exception": false,
     "start_time": "2022-05-06T19:51:52.279170",
     "status": "completed"
    },
    "tags": []
   },
   "source": [
    "**Calculate Net Worth**"
   ]
  },
  {
   "cell_type": "code",
   "execution_count": 39,
   "id": "d4ca3fea",
   "metadata": {
    "execution": {
     "iopub.execute_input": "2022-05-06T19:51:52.557071Z",
     "iopub.status.busy": "2022-05-06T19:51:52.556506Z",
     "iopub.status.idle": "2022-05-06T19:51:52.854329Z",
     "shell.execute_reply": "2022-05-06T19:51:52.853542Z"
    },
    "papermill": {
     "duration": 0.391173,
     "end_time": "2022-05-06T19:51:52.856557",
     "exception": false,
     "start_time": "2022-05-06T19:51:52.465384",
     "status": "completed"
    },
    "tags": []
   },
   "outputs": [
    {
     "data": {
      "image/png": "[encoded data removed]",
      "text/plain": [
       "<Figure size 1296x504 with 1 Axes>"
      ]
     },
     "metadata": {},
     "output_type": "display_data"
    }
   ],
   "source": [
    "savings_forecast = salary_forecast - expenses_forecast\n",
    "\n",
    "commulative_savings = np.cumsum(savings_forecast)\n",
    "\n",
    "plt.figure(figsize = (18, 7))\n",
    "plt.plot(commulative_savings, color = \"green\", linewidth = 3)\n",
    "plt.title(\"Savings\", size = 20, weight = \"bold\")\n",
    "plt.xlabel(\"Months\", size = 20, weight = \"bold\")\n",
    "plt.ylabel(\"Amouunt\", size = 20, weight = \"bold\")\n",
    "plt.xticks(size = 15)\n",
    "plt.yticks(size = 15)\n",
    "plt.show()"
   ]
  },
  {
   "cell_type": "markdown",
   "id": "60e733c8",
   "metadata": {
    "papermill": {
     "duration": 0.089221,
     "end_time": "2022-05-06T19:51:53.035074",
     "exception": false,
     "start_time": "2022-05-06T19:51:52.945853",
     "status": "completed"
    },
    "tags": []
   },
   "source": [
    "**Become a Millonaire**"
   ]
  },
  {
   "cell_type": "code",
   "execution_count": 40,
   "id": "ed6386b3",
   "metadata": {
    "execution": {
     "iopub.execute_input": "2022-05-06T19:51:53.218127Z",
     "iopub.status.busy": "2022-05-06T19:51:53.217610Z",
     "iopub.status.idle": "2022-05-06T19:51:53.224957Z",
     "shell.execute_reply": "2022-05-06T19:51:53.224076Z"
    },
    "papermill": {
     "duration": 0.10141,
     "end_time": "2022-05-06T19:51:53.227517",
     "exception": false,
     "start_time": "2022-05-06T19:51:53.126107",
     "status": "completed"
    },
    "tags": []
   },
   "outputs": [
    {
     "name": "stdout",
     "output_type": "stream",
     "text": [
      "You will have to invest $3214.35 per month to amass $1M over 15 years\n"
     ]
    }
   ],
   "source": [
    "investment_rate_annual = 0.07\n",
    "\n",
    "investment_rate_monthly = (1 + investment_rate_annual) ** (1/12) - 1\n",
    "\n",
    "required_investment_monthly = -npf.pmt(rate = investment_rate_monthly,\n",
    "                                      nper = 15 * 12,\n",
    "                                      pv = 0,\n",
    "                                      fv = 1000000)\n",
    "print(\"You will have to invest $\" + \n",
    "      str(round(required_investment_monthly, 2)) + \n",
    "      \" per month to amass $1M over 15 years\")"
   ]
  },
  {
   "cell_type": "markdown",
   "id": "18adcb58",
   "metadata": {
    "papermill": {
     "duration": 0.089962,
     "end_time": "2022-05-06T19:51:53.407044",
     "exception": false,
     "start_time": "2022-05-06T19:51:53.317082",
     "status": "completed"
    },
    "tags": []
   },
   "source": [
    "**Investment and Savings**"
   ]
  },
  {
   "cell_type": "code",
   "execution_count": 41,
   "id": "a484e0bd",
   "metadata": {
    "execution": {
     "iopub.execute_input": "2022-05-06T19:51:53.592202Z",
     "iopub.status.busy": "2022-05-06T19:51:53.591902Z",
     "iopub.status.idle": "2022-05-06T19:51:53.890594Z",
     "shell.execute_reply": "2022-05-06T19:51:53.889617Z"
    },
    "papermill": {
     "duration": 0.393593,
     "end_time": "2022-05-06T19:51:53.892985",
     "exception": false,
     "start_time": "2022-05-06T19:51:53.499392",
     "status": "completed"
    },
    "tags": []
   },
   "outputs": [
    {
     "data": {
      "image/png": "[encoded data removed]",
      "text/plain": [
       "<Figure size 1296x504 with 1 Axes>"
      ]
     },
     "metadata": {},
     "output_type": "display_data"
    }
   ],
   "source": [
    "investment_account = savings_forecast * 0.3\n",
    "\n",
    "savings_account = savings_forecast * (1 - 0.3)\n",
    "\n",
    "cumulative_savings_account = np.cumsum(savings_account)\n",
    "\n",
    "plt.figure(figsize = (18, 7))\n",
    "plt.plot(investment_account, color = \"blue\", linewidth = 3, label = \"Investment\")\n",
    "plt.plot(savings_account, color = \"red\", linewidth = 3, label = \"Savings\")\n",
    "plt.title(\"Investment and Savings Forecast\", size = 20, weight = \"bold\")\n",
    "plt.xlabel(\"Months\", size = 20, weight = \"bold\")\n",
    "plt.ylabel(\"Amouunt\", size = 20, weight = \"bold\")\n",
    "plt.xticks(size = 15)\n",
    "plt.yticks(size = 15)\n",
    "plt.show()"
   ]
  },
  {
   "cell_type": "code",
   "execution_count": 42,
   "id": "8b93df28",
   "metadata": {
    "execution": {
     "iopub.execute_input": "2022-05-06T19:51:54.080555Z",
     "iopub.status.busy": "2022-05-06T19:51:54.080235Z",
     "iopub.status.idle": "2022-05-06T19:51:54.092535Z",
     "shell.execute_reply": "2022-05-06T19:51:54.091625Z"
    },
    "papermill": {
     "duration": 0.109155,
     "end_time": "2022-05-06T19:51:54.094770",
     "exception": false,
     "start_time": "2022-05-06T19:51:53.985615",
     "status": "completed"
    },
    "tags": []
   },
   "outputs": [],
   "source": [
    "forecast_months = 12 * 15\n",
    "investment_portfolio = np.repeat(0, forecast_months)\n",
    "net_worth = np.repeat(0, forecast_months)\n",
    "investment_rate_monthly = 0.07 / 12\n",
    "\n",
    "# Loop through each forecast period\n",
    "for i in range(forecast_months):\n",
    "    \n",
    "    # Find the previous investment deposit amount\n",
    "    if i == 0: \n",
    "        previous_investment = 0\n",
    "    else:\n",
    "        previous_investment = investment_portfolio[i-1]\n",
    "        \n",
    "    # Calculate the value of your previous investments, which have grown\n",
    "    previous_investment_growth = previous_investment*(1 + investment_rate_monthly)\n",
    "    \n",
    "    # Add your new deposit to your investment portfolio\n",
    "    investment_portfolio[i] =  previous_investment_growth + investment_account[i]\n",
    "    \n",
    "    # Calculate your net worth at each point in time\n",
    "    net_worth[i] = investment_portfolio[i] + cumulative_savings_account[i]"
   ]
  },
  {
   "cell_type": "code",
   "execution_count": 43,
   "id": "b5576862",
   "metadata": {
    "execution": {
     "iopub.execute_input": "2022-05-06T19:51:54.282554Z",
     "iopub.status.busy": "2022-05-06T19:51:54.281540Z",
     "iopub.status.idle": "2022-05-06T19:51:54.629707Z",
     "shell.execute_reply": "2022-05-06T19:51:54.628577Z"
    },
    "papermill": {
     "duration": 0.444166,
     "end_time": "2022-05-06T19:51:54.632072",
     "exception": false,
     "start_time": "2022-05-06T19:51:54.187906",
     "status": "completed"
    },
    "tags": []
   },
   "outputs": [
    {
     "data": {
      "image/png": "[encoded data removed]",
      "text/plain": [
       "<Figure size 1296x504 with 1 Axes>"
      ]
     },
     "metadata": {},
     "output_type": "display_data"
    }
   ],
   "source": [
    "plt.figure(figsize = (18, 7))\n",
    "plt.plot(investment_portfolio, color = \"blue\", linewidth = 3, label = \"Investment\")\n",
    "plt.plot(cumulative_savings_account, color = \"red\", linewidth = 3, label = \"Savings\")\n",
    "plt.plot(net_worth, color = \"green\", linewidth = 3, label = \"Net Worth\")\n",
    "plt.title(\"Investment, Savings and Net Worth Forecast\", size = 20, weight = \"bold\")\n",
    "plt.xlabel(\"Months\", size = 20, weight = \"bold\")\n",
    "plt.ylabel(\"Amouunt\", size = 20, weight = \"bold\")\n",
    "plt.xticks(size = 15)\n",
    "plt.yticks(size = 15)\n",
    "plt.legend(fontsize = 15)\n",
    "plt.show()"
   ]
  },
  {
   "cell_type": "code",
   "execution_count": null,
   "id": "82b9c9e0",
   "metadata": {
    "papermill": {
     "duration": 0.101275,
     "end_time": "2022-05-06T19:51:54.829036",
     "exception": false,
     "start_time": "2022-05-06T19:51:54.727761",
     "status": "completed"
    },
    "tags": []
   },
   "outputs": [],
   "source": []
  }
 ],
 "metadata": {
  "kernelspec": {
   "display_name": "Python 3",
   "language": "python",
   "name": "python3"
  },
  "language_info": {
   "codemirror_mode": {
    "name": "ipython",
    "version": 3
   },
   "file_extension": ".py",
   "mimetype": "text/x-python",
   "name": "python",
   "nbconvert_exporter": "python",
   "pygments_lexer": "ipython3",
   "version": "3.7.12"
  },
  "papermill": {
   "default_parameters": {},
   "duration": 47.762953,
   "end_time": "2022-05-06T19:51:55.751934",
   "environment_variables": {},
   "exception": null,
   "input_path": "__notebook__.ipynb",
   "output_path": "__notebook__.ipynb",
   "parameters": {},
   "start_time": "2022-05-06T19:51:07.988981",
   "version": "2.3.4"
  }
 },
 "nbformat": 4,
 "nbformat_minor": 5
}
